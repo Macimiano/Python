{
 "cells": [
  {
   "cell_type": "code",
   "execution_count": 1,
   "metadata": {},
   "outputs": [],
   "source": [
    "import pyautogui\n",
    "import pyperclip\n",
    "import time\n",
    "\n",
    "pyautogui.alert('A operação irá começar, aperte OK e relaxa')\n",
    "pyautogui.PAUSE = 1\n",
    "pyautogui.press('winleft')\n",
    "pyautogui.write('opera')\n",
    "time.sleep(1)\n",
    "pyautogui.press('enter')\n",
    "link = \"https://drive.google.com/drive/folders/1wRTFw0sUVBjRr4hW5U9LF7DjLixRyxym\"\n",
    "pyperclip.copy(link)\n",
    "pyautogui.hotkey('ctrl','v')\n",
    "pyautogui.press('enter')\n",
    "time.sleep(3)\n",
    "pyautogui.rightClick(1080, 403)\n",
    "pyautogui.click(883,652)\n",
    "\n"
   ]
  },
  {
   "cell_type": "code",
   "execution_count": 2,
   "metadata": {},
   "outputs": [],
   "source": [
    "import pandas as pd\n",
    "tabela = pd.read_excel(r'C:\\Users\\marce\\Downloads\\Vendas - Dez.xlsx')\n",
    "faturamento= tabela[\"Valor Final\"].sum()\n",
    "Qtde_Produtos= tabela[\"Quantidade\"].sum()\n",
    "\n",
    "\n"
   ]
  },
  {
   "cell_type": "code",
   "execution_count": 3,
   "metadata": {},
   "outputs": [],
   "source": [
    "pyautogui.PAUSE = 0.5\n",
    "pyautogui.hotkey('ctrl','t')\n",
    "link = (r'https://mail.google.com/mail/u/0/#inbox')\n",
    "pyperclip.copy(link)\n",
    "pyautogui.hotkey('ctrl','v')\n",
    "pyautogui.press('enter')\n",
    "time.sleep(10)\n",
    "pyautogui.click(140,210)\n",
    "time.sleep(10)\n",
    "pyautogui.write (\"pythonimpressionador+diretoria@gmail.com\")\n",
    "pyautogui.press('tab')\n",
    "pyautogui.press('tab')\n",
    "assunto = \"Relatórios de Vendas\"\n",
    "pyperclip.copy(assunto)\n",
    "pyautogui.hotkey('ctrl','v')\n",
    "pyautogui.press('tab')\n",
    "Texto_email = f'''\n",
    "Prezados bom dia\n",
    "O faturamento de ontem foi de R$ { faturamento:,.2f}\n",
    "A quantidade de produtos foi: { Qtde_Produtos:,}\n",
    "\n",
    "Abraços\n",
    "Marcelo\n",
    "'''\n",
    "pyperclip.copy(Texto_email)\n",
    "pyautogui.hotkey('ctrl','v')"
   ]
  },
  {
   "cell_type": "code",
   "execution_count": null,
   "metadata": {},
   "outputs": [],
   "source": []
  }
 ],
 "metadata": {
  "kernelspec": {
   "display_name": "Python 3",
   "language": "python",
   "name": "python3"
  },
  "language_info": {
   "codemirror_mode": {
    "name": "ipython",
    "version": 3
   },
   "file_extension": ".py",
   "mimetype": "text/x-python",
   "name": "python",
   "nbconvert_exporter": "python",
   "pygments_lexer": "ipython3",
   "version": "3.8.5"
  }
 },
 "nbformat": 4,
 "nbformat_minor": 4
}
